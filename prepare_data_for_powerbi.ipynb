{
 "cells": [
  {
   "cell_type": "code",
   "execution_count": 1,
   "metadata": {},
   "outputs": [],
   "source": [
    "import pandas as pd\n",
    "import numpy as np"
   ]
  },
  {
   "cell_type": "code",
   "execution_count": 22,
   "metadata": {},
   "outputs": [],
   "source": [
    "df = pd.read_csv('data/Data4Good_Arolsen_Archives_50k.csv')\n",
    "\n",
    "df.drop(['Unnamed: 0', 'TD', 'Last_Name', 'First Name', 'Alternative Name', 'Father (Vater - Eltern)', 'Mother (Mutter - Eltern)', 'Spouse (Ehem/Ehefr)', 'Alternative_Birthdate','Upper', 'Middle', 'Overall Confidence OCR', \"Volunteers' Comment\"], axis=1, inplace=True)"
   ]
  },
  {
   "cell_type": "code",
   "execution_count": 23,
   "metadata": {},
   "outputs": [],
   "source": [
    "# Replace '//' with NaN\n",
    "df['Birthdate (Geb)'] = df['Birthdate (Geb)'].replace('//', np.nan)\n",
    "\n",
    "# Replace 'nan' with NaN\n",
    "df['Birthdate (Geb)'] = df['Birthdate (Geb)'].replace('nan', np.nan)\n",
    "\n",
    "# Convert to string to avoid errors\n",
    "df['Birthdate (Geb)'] = df['Birthdate (Geb)'].astype(str)\n",
    "\n",
    "# Function to extract the birth year\n",
    "def extract_birth_year(date):\n",
    "    if pd.isna(date) or date.strip() == '':\n",
    "        return None  # Handle missing values\n",
    "    parts = date.split('/')\n",
    "    return parts[-1] if parts[-1].isdigit() and len(parts[-1]) == 4 else None  # Extract the last part if it's a valid year\n",
    "\n",
    "# Apply the function to extract birth year\n",
    "df['Birth_Year'] = df['Birthdate (Geb)'].apply(extract_birth_year).astype('Int64')  # Convert to integer, allowing NaN\n",
    "\n",
    "# Drop the original columns (optional)\n",
    "df.drop(columns=['Birthdate (Geb)'], inplace=True)\n"
   ]
  },
  {
   "cell_type": "code",
   "execution_count": 24,
   "metadata": {},
   "outputs": [
    {
     "name": "stdout",
     "output_type": "stream",
     "text": [
      "Birth_Year\n",
      "1924    2198\n",
      "1923    2175\n",
      "1922    2139\n",
      "1925    2119\n",
      "1920    1792\n",
      "        ... \n",
      "1855       5\n",
      "1854       4\n",
      "1852       4\n",
      "1853       3\n",
      "1849       2\n",
      "Name: count, Length: 97, dtype: Int64\n"
     ]
    }
   ],
   "source": [
    "df.loc[df['Birth_Year'] < 1845, 'Birth_Year'] = np.nan\n",
    "df.loc[df['Birth_Year'] > 1945, 'Birth_Year'] = np.nan\n",
    "\n",
    "\n",
    "# Verify the changes\n",
    "print(df['Birth_Year'].value_counts())\n"
   ]
  },
  {
   "cell_type": "markdown",
   "metadata": {},
   "source": [
    "RELIGION"
   ]
  },
  {
   "cell_type": "code",
   "execution_count": 25,
   "metadata": {},
   "outputs": [],
   "source": [
    "# Group rare religions\n",
    "min_count = 5  # Threshold for rare categories\n",
    "religion_counts = df['Religion'].value_counts()\n",
    "rare_religions = religion_counts[religion_counts < min_count].index\n",
    "df['Religion'] = df['Religion'].replace(rare_religions, 'Other')"
   ]
  },
  {
   "cell_type": "code",
   "execution_count": 26,
   "metadata": {},
   "outputs": [
    {
     "data": {
      "text/plain": [
       "Religion\n",
       "Jewish                   10886\n",
       "Roman Catholic            1340\n",
       "Other                      168\n",
       "Orthodox Christian          73\n",
       "Evangelical Christian       24\n",
       "Name: count, dtype: int64"
      ]
     },
     "execution_count": 26,
     "metadata": {},
     "output_type": "execute_result"
    }
   ],
   "source": [
    "df['Religion'].value_counts()"
   ]
  },
  {
   "cell_type": "markdown",
   "metadata": {},
   "source": [
    "Birth Place"
   ]
  },
  {
   "cell_type": "code",
   "execution_count": 27,
   "metadata": {},
   "outputs": [],
   "source": [
    "min_count = 100  # Threshold for rare categories\n",
    "birth_place_counts = df['Birth Place'].value_counts()\n",
    "rare_birth_places = birth_place_counts[birth_place_counts < min_count].index\n",
    "df['Birth Place'] = df['Birth Place'].replace(rare_birth_places, 'Other')"
   ]
  },
  {
   "cell_type": "code",
   "execution_count": 28,
   "metadata": {},
   "outputs": [],
   "source": [
    "df[\"Nationality\"] = df[\"Nationality\"].str.replace(r\"(?i)\\bFormerly\\b\", \"\", regex=True).str.strip()\n",
    "\n",
    "df[\"Nationality\"] = df[\"Nationality\"].str.lower().replace(r\"stateless\", np.nan, regex=True)"
   ]
  },
  {
   "cell_type": "code",
   "execution_count": 29,
   "metadata": {},
   "outputs": [
    {
     "name": "stdout",
     "output_type": "stream",
     "text": [
      "Series([], Name: count, dtype: int64)\n"
     ]
    }
   ],
   "source": [
    "from fuzzywuzzy import process\n",
    "import pandas as pd\n",
    "\n",
    "# Convert valid nationalities list to title case (First letter uppercase)\n",
    "valid_nationalities = [\n",
    "    # Common nationalities (ISO 3166)\n",
    "    \"Afghan\", \"Albanian\", \"Algerian\", \"American\", \"Andorran\", \"Angolan\", \"Argentine\", \"Armenian\", \"Australian\", \"Austrian\",\n",
    "    \"Azerbaijani\", \"Bahamian\", \"Bahraini\", \"Bangladeshi\", \"Barbadian\", \"Belarusian\", \"Belgian\", \"Belizean\", \"Beninese\", \"Bhutanese\",\n",
    "    \"Bolivian\", \"Bosnian\", \"Botswanan\", \"Brazilian\", \"British\", \"Bruneian\", \"Bulgarian\", \"Burkinabé\", \"Burmese\", \"Burundian\",\n",
    "    \"Cambodian\", \"Cameroonian\", \"Canadian\", \"Cape Verdean\", \"Central African\", \"Chadian\", \"Chilean\", \"Chinese\", \"Colombian\",\n",
    "    \"Comoran\", \"Congolese\", \"Costa Rican\", \"Croatian\", \"Cuban\", \"Cypriot\", \"Czech\", \"Danish\", \"Djiboutian\", \"Dominican\",\n",
    "    \"Dutch\", \"East Timorese\", \"Ecuadorean\", \"Egyptian\", \"Emirati\", \"Equatorial Guinean\", \"Eritrean\", \"Estonian\", \"Eswatini\",\n",
    "    \"Ethiopian\", \"Fijian\", \"Finnish\", \"French\", \"Gabonese\", \"Gambian\", \"Georgian\", \"German\", \"Ghanaian\", \"Greek\",\n",
    "    \"Grenadian\", \"Guatemalan\", \"Guinean\", \"Guyanese\", \"Haitian\", \"Honduran\", \"Hungarian\", \"Icelandic\", \"Indian\", \"Indonesian\",\n",
    "    \"Iranian\", \"Iraqi\", \"Irish\", \"Israeli\", \"Italian\", \"Ivorian\", \"Jamaican\", \"Japanese\", \"Jordanian\", \"Kazakh\",\n",
    "    \"Kenyan\", \"Kiribati\", \"Kuwaiti\", \"Kyrgyz\", \"Lao\", \"Latvian\", \"Lebanese\", \"Lesotho\", \"Liberian\", \"Libyan\",\n",
    "    \"Liechtensteiner\", \"Lithuanian\", \"Luxembourgish\", \"Macedonian\", \"Malagasy\", \"Malawian\", \"Malaysian\", \"Maldivian\",\n",
    "    \"Malian\", \"Maltese\", \"Marshallese\", \"Mauritanian\", \"Mauritian\", \"Mexican\", \"Micronesian\", \"Moldovan\", \"Monacan\",\n",
    "    \"Mongolian\", \"Montenegrin\", \"Moroccan\", \"Mozambican\", \"Myanmar\", \"Namibian\", \"Nauruan\", \"Nepalese\", \"New Zealander\",\n",
    "    \"Nicaraguan\", \"Nigerian\", \"North Korean\", \"Norwegian\", \"Omani\", \"Pakistani\", \"Palauan\", \"Palestinian\", \"Panamanian\",\n",
    "    \"Papua New Guinean\", \"Paraguayan\", \"Peruvian\", \"Philippine\", \"Polish\", \"Portuguese\", \"Qatari\", \"Romanian\", \"Russian\",\n",
    "    \"Rwandan\", \"Saint Lucian\", \"Salvadoran\", \"Samoan\", \"Saudi\", \"Scottish\", \"Senegalese\", \"Serbian\", \"Seychellois\",\n",
    "    \"Sierra Leonean\", \"Singaporean\", \"Slovak\", \"Slovenian\", \"Solomon Islander\", \"Somali\", \"South African\", \"South Korean\",\n",
    "    \"South Sudanese\", \"Spanish\", \"Sri Lankan\", \"Sudanese\", \"Surinamese\", \"Swedish\", \"Swiss\", \"Syrian\", \"Taiwanese\",\n",
    "    \"Tajik\", \"Tanzanian\", \"Thai\", \"Togolese\", \"Tongan\", \"Trinidadian\", \"Tunisian\", \"Turkish\", \"Turkmen\", \"Tuvaluan\",\n",
    "    \"Ugandan\", \"Ukrainian\", \"Uruguayan\", \"Uzbek\", \"Venezuelan\", \"Vietnamese\", \"Welsh\", \"Yemeni\", \"Zambian\", \"Zimbabwean\",\n",
    "\n",
    "    # Historical nationalities\n",
    "    \"Austro-Hungarian\", \"Prussian\", \"Bohemian\", \"Ottoman\", \"Soviet\", \"Yugoslav\", \"Czechoslovak\", \"West German\", \"East German\",\n",
    "    \"Rhodesian\", \"Serbo-Croatian\", \"Mandarin\", \"Manchu\", \"Ming\", \"Byzantine\",\n",
    "\n",
    "    # Stateless or refugee identities\n",
    "    \"Stateless\", \"Unknown\",\n",
    "\n",
    "    # Manually added for necessity\n",
    "    \"Yugoslavian\", \"USSR\"\n",
    "]\n",
    "\n",
    "# Manual correction mapping for specific cases\n",
    "manual_corrections = {\n",
    "    \"argentinian\": \"Argentine\",\n",
    "    \"luxembourger\": \"Luxembourgish\",\n",
    "    \"germna\": \"German\",  # Common OCR mistake\n",
    "    \"polan\": \"Polish\"  # Common OCR mistake\n",
    "}\n",
    "\n",
    "# Convert all nationalities in the DataFrame to lowercase and strip spaces\n",
    "df[\"Nationality\"] = df[\"Nationality\"].str.lower().str.strip()\n",
    "\n",
    "# Apply manual corrections first\n",
    "df[\"Nationality\"] = df[\"Nationality\"].replace(manual_corrections)\n",
    "\n",
    "# Fuzzy matching function for remaining uncorrected values\n",
    "def fuzzy_correct(nationality):\n",
    "    if pd.isna(nationality):  # Skip NaN values\n",
    "        return None\n",
    "    match, score = process.extractOne(nationality, valid_nationalities)\n",
    "    return match if score > 85 else nationality  # Keep original if match \n",
    "\n",
    "# Apply fuzzy matching for remaining uncorrected values\n",
    "df[\"Nationality\"] = df[\"Nationality\"].apply(fuzzy_correct)\n",
    "\n",
    "df[\"Nationality\"] = df[\"Nationality\"].replace([\"Stateless\", \"Unknown\", \"\", \" \"], np.nan)\n",
    "\n",
    "# Identify cases where fuzzy matching changed the nationality\n",
    "df_fuzzy_changed = df[df[\"Nationality\"] != df[\"Nationality\"]]\n",
    "print(df_fuzzy_changed['Nationality'].value_counts())"
   ]
  },
  {
   "cell_type": "code",
   "execution_count": 31,
   "metadata": {},
   "outputs": [
    {
     "name": "stdout",
     "output_type": "stream",
     "text": [
      "Cleaned Data without Unrecognized Nationalities:\n",
      "      Birth Place Nationality Alternative Nationality 1  \\\n",
      "0           Other      Polish                       NaN   \n",
      "1           Other        None                       NaN   \n",
      "2           Other        None                       NaN   \n",
      "3        Warschau      Polish                       NaN   \n",
      "4           Other      German                       NaN   \n",
      "...           ...         ...                       ...   \n",
      "49396       Other        None                       NaN   \n",
      "49397       Other        None                       NaN   \n",
      "49398   Amsterdam        None                       NaN   \n",
      "49399       Other    Canadian                 Hungarian   \n",
      "49400       Other    American                       NaN   \n",
      "\n",
      "      Alternative Nationality 2        Religion  \\\n",
      "0                           NaN  Roman Catholic   \n",
      "1                           NaN             NaN   \n",
      "2                           NaN             NaN   \n",
      "3                           NaN          Jewish   \n",
      "4                           NaN             NaN   \n",
      "...                         ...             ...   \n",
      "49396                       NaN             NaN   \n",
      "49397                       NaN             NaN   \n",
      "49398                       NaN          Jewish   \n",
      "49399                       NaN          Jewish   \n",
      "49400                    Polish             NaN   \n",
      "\n",
      "                                            Geo Location Inferred Nationality  \\\n",
      "0      \"{\"\"paths\"\":[{\"\"fromLabel\"\":\"\"Wiekowo\"\",\"\"toLa...                  NaN   \n",
      "1      \"{\"\"paths\"\":[{\"\"fromLabel\"\":\"\"Laszczow Polen\"\"...                  NaN   \n",
      "2      \"{\"\"paths\"\":[{\"\"fromLabel\"\":\"\"Biala Österr\"\",\"...                  NaN   \n",
      "3      \"{\"\"paths\"\":[{\"\"fromLabel\"\":\"\"Warschau\"\",\"\"toL...                  NaN   \n",
      "4      \"{\"\"paths\"\":[{\"\"fromLabel\"\":\"\"Einsiedl Böhmen\"...                  NaN   \n",
      "...                                                  ...                  ...   \n",
      "49396  \"{\"\"paths\"\":[{\"\"fromLabel\"\":\"\"Lomza\"\",\"\"toLabe...                  NaN   \n",
      "49397  \"{\"\"paths\"\":[{\"\"fromLabel\"\":\"\"Czarnowits\"\",\"\"t...                  NaN   \n",
      "49398  \"{\"\"paths\"\":[{\"\"fromLabel\"\":\"\"Amsterdam\"\",\"\"to...                  NaN   \n",
      "49399  \"{\"\"paths\"\":[{\"\"fromLabel\"\":\"\"Mates zalka\"\",\"\"...                  NaN   \n",
      "49400  \"{\"\"paths\"\":[{\"\"fromLabel\"\":\"\"Koslinka Tuchel ...                  NaN   \n",
      "\n",
      "                       Automatic Validation  Birth_Year  \n",
      "0      Above threshold for Last Name and TD        1926  \n",
      "1                                   Matched        1925  \n",
      "2                           To be validated        1904  \n",
      "3                                   Matched        1913  \n",
      "4      Above threshold for Last Name and TD        1894  \n",
      "...                                     ...         ...  \n",
      "49396                               Matched        1896  \n",
      "49397                       To be validated        1885  \n",
      "49398                               Matched        1921  \n",
      "49399                       To be validated        1930  \n",
      "49400                               Matched        1906  \n",
      "\n",
      "[49401 rows x 9 columns]\n"
     ]
    }
   ],
   "source": [
    "# Find nationalities not in the valid list\n",
    "valid_nationalities.append(None)\n",
    "df_unrecognized = df[~df[\"Nationality\"].isin(valid_nationalities)]\n",
    "# Show the indexes and the unrecognized nationalities\n",
    "df_nationality_cleaned = df[~df[\"Nationality\"].isin(df_unrecognized['Nationality'])].reset_index(drop=True)\n",
    "\n",
    "# Print the cleaned data\n",
    "print(\"Cleaned Data without Unrecognized Nationalities:\")\n",
    "print(df_nationality_cleaned)"
   ]
  },
  {
   "cell_type": "code",
   "execution_count": 34,
   "metadata": {},
   "outputs": [
    {
     "name": "stdout",
     "output_type": "stream",
     "text": [
      "Nationality\n",
      "Polish         6692\n",
      "Israeli        6124\n",
      "German         3088\n",
      "Italian        1478\n",
      "American       1253\n",
      "Other           872\n",
      "Hungarian       843\n",
      "Czech           832\n",
      "French          831\n",
      "Yugoslavian     553\n",
      "Romanian        522\n",
      "Austrian        376\n",
      "Russian         361\n",
      "Ukrainian       156\n",
      "Latvian         127\n",
      "Canadian        124\n",
      "USSR            114\n",
      "Lithuanian      113\n",
      "Dutch            85\n",
      "Australian       77\n",
      "British          65\n",
      "Greek            65\n",
      "Spanish          54\n",
      "Name: count, dtype: int64\n"
     ]
    }
   ],
   "source": [
    "# Define threshold (0.01% of total entries)\n",
    "threshold = 0.001 * len(df)  # 0.01% of total dataset size\n",
    "\n",
    "# Count occurrences of each nationality\n",
    "nationality_counts = df['Nationality'].value_counts()\n",
    "\n",
    "# Identify rare nationalities (those below the threshold)\n",
    "rare_nationalities = nationality_counts[nationality_counts < threshold].index\n",
    "\n",
    "# Replace rare nationalities with \"Other\"\n",
    "df['Nationality'] = df['Nationality'].replace(rare_nationalities, 'Other')\n",
    "\n",
    "# Display updated value counts\n",
    "print(df['Nationality'].value_counts())\n"
   ]
  },
  {
   "cell_type": "code",
   "execution_count": 36,
   "metadata": {},
   "outputs": [],
   "source": [
    "df.head()\n",
    "\n",
    "df.to_csv(\"data/Power_BI_compatible_dataset.csv\", index=False)  # Saves without index"
   ]
  }
 ],
 "metadata": {
  "kernelspec": {
   "display_name": "Python 3",
   "language": "python",
   "name": "python3"
  },
  "language_info": {
   "codemirror_mode": {
    "name": "ipython",
    "version": 3
   },
   "file_extension": ".py",
   "mimetype": "text/x-python",
   "name": "python",
   "nbconvert_exporter": "python",
   "pygments_lexer": "ipython3",
   "version": "3.13.1"
  }
 },
 "nbformat": 4,
 "nbformat_minor": 2
}
